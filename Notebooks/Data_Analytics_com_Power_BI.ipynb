{
  "nbformat": 4,
  "nbformat_minor": 0,
  "metadata": {
    "colab": {
      "provenance": [],
      "authorship_tag": "ABX9TyNHe1uxWTx0kHozbYCNKC9n",
      "include_colab_link": true
    },
    "kernelspec": {
      "name": "python3",
      "display_name": "Python 3"
    },
    "language_info": {
      "name": "python"
    }
  },
  "cells": [
    {
      "cell_type": "markdown",
      "metadata": {
        "id": "view-in-github",
        "colab_type": "text"
      },
      "source": [
        "<a href=\"https://colab.research.google.com/github/pmd1308/R_roadmap.sh/blob/main/Notebooks/Data_Analytics_com_Power_BI.ipynb\" target=\"_parent\"><img src=\"https://colab.research.google.com/assets/colab-badge.svg\" alt=\"Open In Colab\"/></a>"
      ]
    },
    {
      "cell_type": "markdown",
      "source": [
        "# Conteudo Aprendido\n"
      ],
      "metadata": {
        "id": "5WGgNB9Sh__0"
      }
    },
    {
      "cell_type": "code",
      "source": [
        "import torch\n",
        "from transformers import LlamaTokenizer, LLamaForCausalLM\n",
        "\n",
        "class PowerBiAutomation:\n",
        "    def __init__(self, model_name='LLaMA', max_length=512):\n",
        "        # Initialize the tokinozer and model\n",
        "        self.tokenizer = LlamaTokenizer.from_pretrained(model_name)\n",
        "        self.model = LLamaForCausalLM.from_pretrained(model_name)\n",
        "        self.max_length = max_length\n",
        "\n",
        "        # Check if GPU is avaible and move the model\n",
        "        self.device = 'cuda' if torch.cuda.is_available() else 'cpu'\n",
        "        self.model.to(self.device)\n",
        "\n",
        "    def generate_description(self, dataset, char_limit):\n",
        "        \"\"\"\n",
        "        Generate a description for a given dataset within the specified character limit.\n",
        "\n",
        "        Args:\n",
        "            dataset (str): The dataset to generate a description for.\n",
        "            char_limit (int): The maximum number of characters for the description.\n",
        "\n",
        "        Returns:\n",
        "            str: The generated description.\n",
        "        \"\"\"\n",
        "        dataset_info = self._process_dataset(dataset)\n",
        "\n",
        "        input_text = f\"Generate a description for the following dataset: {dataset_info}\"\n",
        "        inputs = self.tokenizer.encode(input_text, return_tensors='pt').to(self.device)\n",
        "\n",
        "        output = self.model.generate(inputs,\n",
        "                                     max_length=self.max_length,\n",
        "                                     num_return_sequences=1,\n",
        "                                     pad_token_id=self.tokenizer.eos_token_id\n",
        "                                     do_sample=True,\n",
        "                                     top_p=0.95,\n",
        "                                     tok_k=50)\n",
        "\n",
        "        description = self,tokenizer.decode(output[0], skip_special_tokens=True)\n",
        "\n",
        "        return description\n",
        "\n",
        "    def _process_dataset(self, dataset):\n",
        "        \"\"\"\n",
        "        Process the dataset to extract relevant information.\n",
        "\n",
        "        Args:\n",
        "         - dataset: A dictionary or datafram containig the dataset columns and values.\n",
        "\n",
        "        Returns:\n",
        "        - dataset_info: A string containing the processed dataset information.\n",
        "        \"\"\"\n",
        "        if isinstance(dataset, dict):\n",
        "            columns = dataset.keys()\n",
        "        elif hasattr(dataset, 'columns'):\n",
        "            columns = dataset.columns\n",
        "        else:\n",
        "            raise ValueError(\"Invalid dataset format. Expected a dictionary or a pandas DataFrame.\")\n",
        "\n",
        "          return f\"Columns: {', '.join(columns)}. Sample data: {str(dataset.head()) if hasattr(dataset, 'head') else str(dataset)}\""
      ],
      "metadata": {
        "id": "NiVCPHHZiSN0"
      },
      "execution_count": null,
      "outputs": []
    }
  ]
}